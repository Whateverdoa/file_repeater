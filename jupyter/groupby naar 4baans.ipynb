{
 "cells": [
  {
   "cell_type": "code",
   "execution_count": 24,
   "metadata": {},
   "outputs": [],
   "source": [
    "import pandas as pd\n",
    "from pprint import pprint\n",
    "import base.paden_naar_files as paden"
   ]
  },
  {
   "cell_type": "code",
   "execution_count": 28,
   "metadata": {},
   "outputs": [
    {
     "ename": "FileNotFoundError",
     "evalue": "[Errno 2] No such file or directory: 'C:\\\\Users\\\\Dhr. Ten Hoonte\\\\PycharmProjects\\\\file_repeater\\\\jupyter\\\\base\\\\file_in\\\\202105171_maanden.csv'",
     "output_type": "error",
     "traceback": [
      "\u001B[1;31m---------------------------------------------------------------------------\u001B[0m",
      "\u001B[1;31mFileNotFoundError\u001B[0m                         Traceback (most recent call last)",
      "\u001B[1;32m<ipython-input-28-9435565d89bf>\u001B[0m in \u001B[0;36m<module>\u001B[1;34m\u001B[0m\n\u001B[1;32m----> 1\u001B[1;33m \u001B[0mcsv_dataframe\u001B[0m \u001B[1;33m=\u001B[0m \u001B[0mpd\u001B[0m\u001B[1;33m.\u001B[0m\u001B[0mread_csv\u001B[0m\u001B[1;33m(\u001B[0m\u001B[0mpaden\u001B[0m\u001B[1;33m.\u001B[0m\u001B[0mfile_in2\u001B[0m\u001B[1;33m,\u001B[0m \u001B[1;34m';'\u001B[0m\u001B[1;33m)\u001B[0m\u001B[1;33m\u001B[0m\u001B[1;33m\u001B[0m\u001B[0m\n\u001B[0m\u001B[0;32m      2\u001B[0m \u001B[1;33m\u001B[0m\u001B[0m\n\u001B[0;32m      3\u001B[0m \u001B[1;33m\u001B[0m\u001B[0m\n\u001B[0;32m      4\u001B[0m \u001B[0mcsv_dataframe\u001B[0m\u001B[1;33m[\u001B[0m\u001B[1;34m'omschrijving'\u001B[0m\u001B[1;33m]\u001B[0m\u001B[1;33m=\u001B[0m \u001B[1;34m\"\"\u001B[0m\u001B[1;33m\u001B[0m\u001B[1;33m\u001B[0m\u001B[0m\n\u001B[0;32m      5\u001B[0m \u001B[0mcsv_dataframe\u001B[0m\u001B[1;33m[\u001B[0m\u001B[1;34m'pdf'\u001B[0m\u001B[1;33m]\u001B[0m\u001B[1;33m=\u001B[0m\u001B[1;34m\"leeg.pdf\"\u001B[0m\u001B[1;33m\u001B[0m\u001B[1;33m\u001B[0m\u001B[0m\n",
      "\u001B[1;32mc:\\users\\dhr. ten hoonte\\file_repeater\\lib\\site-packages\\pandas\\io\\parsers.py\u001B[0m in \u001B[0;36mread_csv\u001B[1;34m(filepath_or_buffer, sep, delimiter, header, names, index_col, usecols, squeeze, prefix, mangle_dupe_cols, dtype, engine, converters, true_values, false_values, skipinitialspace, skiprows, skipfooter, nrows, na_values, keep_default_na, na_filter, verbose, skip_blank_lines, parse_dates, infer_datetime_format, keep_date_col, date_parser, dayfirst, cache_dates, iterator, chunksize, compression, thousands, decimal, lineterminator, quotechar, quoting, doublequote, escapechar, comment, encoding, dialect, error_bad_lines, warn_bad_lines, delim_whitespace, low_memory, memory_map, float_precision)\u001B[0m\n\u001B[0;32m    686\u001B[0m     )\n\u001B[0;32m    687\u001B[0m \u001B[1;33m\u001B[0m\u001B[0m\n\u001B[1;32m--> 688\u001B[1;33m     \u001B[1;32mreturn\u001B[0m \u001B[0m_read\u001B[0m\u001B[1;33m(\u001B[0m\u001B[0mfilepath_or_buffer\u001B[0m\u001B[1;33m,\u001B[0m \u001B[0mkwds\u001B[0m\u001B[1;33m)\u001B[0m\u001B[1;33m\u001B[0m\u001B[1;33m\u001B[0m\u001B[0m\n\u001B[0m\u001B[0;32m    689\u001B[0m \u001B[1;33m\u001B[0m\u001B[0m\n\u001B[0;32m    690\u001B[0m \u001B[1;33m\u001B[0m\u001B[0m\n",
      "\u001B[1;32mc:\\users\\dhr. ten hoonte\\file_repeater\\lib\\site-packages\\pandas\\io\\parsers.py\u001B[0m in \u001B[0;36m_read\u001B[1;34m(filepath_or_buffer, kwds)\u001B[0m\n\u001B[0;32m    452\u001B[0m \u001B[1;33m\u001B[0m\u001B[0m\n\u001B[0;32m    453\u001B[0m     \u001B[1;31m# Create the parser.\u001B[0m\u001B[1;33m\u001B[0m\u001B[1;33m\u001B[0m\u001B[1;33m\u001B[0m\u001B[0m\n\u001B[1;32m--> 454\u001B[1;33m     \u001B[0mparser\u001B[0m \u001B[1;33m=\u001B[0m \u001B[0mTextFileReader\u001B[0m\u001B[1;33m(\u001B[0m\u001B[0mfp_or_buf\u001B[0m\u001B[1;33m,\u001B[0m \u001B[1;33m**\u001B[0m\u001B[0mkwds\u001B[0m\u001B[1;33m)\u001B[0m\u001B[1;33m\u001B[0m\u001B[1;33m\u001B[0m\u001B[0m\n\u001B[0m\u001B[0;32m    455\u001B[0m \u001B[1;33m\u001B[0m\u001B[0m\n\u001B[0;32m    456\u001B[0m     \u001B[1;32mif\u001B[0m \u001B[0mchunksize\u001B[0m \u001B[1;32mor\u001B[0m \u001B[0miterator\u001B[0m\u001B[1;33m:\u001B[0m\u001B[1;33m\u001B[0m\u001B[1;33m\u001B[0m\u001B[0m\n",
      "\u001B[1;32mc:\\users\\dhr. ten hoonte\\file_repeater\\lib\\site-packages\\pandas\\io\\parsers.py\u001B[0m in \u001B[0;36m__init__\u001B[1;34m(self, f, engine, **kwds)\u001B[0m\n\u001B[0;32m    946\u001B[0m             \u001B[0mself\u001B[0m\u001B[1;33m.\u001B[0m\u001B[0moptions\u001B[0m\u001B[1;33m[\u001B[0m\u001B[1;34m\"has_index_names\"\u001B[0m\u001B[1;33m]\u001B[0m \u001B[1;33m=\u001B[0m \u001B[0mkwds\u001B[0m\u001B[1;33m[\u001B[0m\u001B[1;34m\"has_index_names\"\u001B[0m\u001B[1;33m]\u001B[0m\u001B[1;33m\u001B[0m\u001B[1;33m\u001B[0m\u001B[0m\n\u001B[0;32m    947\u001B[0m \u001B[1;33m\u001B[0m\u001B[0m\n\u001B[1;32m--> 948\u001B[1;33m         \u001B[0mself\u001B[0m\u001B[1;33m.\u001B[0m\u001B[0m_make_engine\u001B[0m\u001B[1;33m(\u001B[0m\u001B[0mself\u001B[0m\u001B[1;33m.\u001B[0m\u001B[0mengine\u001B[0m\u001B[1;33m)\u001B[0m\u001B[1;33m\u001B[0m\u001B[1;33m\u001B[0m\u001B[0m\n\u001B[0m\u001B[0;32m    949\u001B[0m \u001B[1;33m\u001B[0m\u001B[0m\n\u001B[0;32m    950\u001B[0m     \u001B[1;32mdef\u001B[0m \u001B[0mclose\u001B[0m\u001B[1;33m(\u001B[0m\u001B[0mself\u001B[0m\u001B[1;33m)\u001B[0m\u001B[1;33m:\u001B[0m\u001B[1;33m\u001B[0m\u001B[1;33m\u001B[0m\u001B[0m\n",
      "\u001B[1;32mc:\\users\\dhr. ten hoonte\\file_repeater\\lib\\site-packages\\pandas\\io\\parsers.py\u001B[0m in \u001B[0;36m_make_engine\u001B[1;34m(self, engine)\u001B[0m\n\u001B[0;32m   1178\u001B[0m     \u001B[1;32mdef\u001B[0m \u001B[0m_make_engine\u001B[0m\u001B[1;33m(\u001B[0m\u001B[0mself\u001B[0m\u001B[1;33m,\u001B[0m \u001B[0mengine\u001B[0m\u001B[1;33m=\u001B[0m\u001B[1;34m\"c\"\u001B[0m\u001B[1;33m)\u001B[0m\u001B[1;33m:\u001B[0m\u001B[1;33m\u001B[0m\u001B[1;33m\u001B[0m\u001B[0m\n\u001B[0;32m   1179\u001B[0m         \u001B[1;32mif\u001B[0m \u001B[0mengine\u001B[0m \u001B[1;33m==\u001B[0m \u001B[1;34m\"c\"\u001B[0m\u001B[1;33m:\u001B[0m\u001B[1;33m\u001B[0m\u001B[1;33m\u001B[0m\u001B[0m\n\u001B[1;32m-> 1180\u001B[1;33m             \u001B[0mself\u001B[0m\u001B[1;33m.\u001B[0m\u001B[0m_engine\u001B[0m \u001B[1;33m=\u001B[0m \u001B[0mCParserWrapper\u001B[0m\u001B[1;33m(\u001B[0m\u001B[0mself\u001B[0m\u001B[1;33m.\u001B[0m\u001B[0mf\u001B[0m\u001B[1;33m,\u001B[0m \u001B[1;33m**\u001B[0m\u001B[0mself\u001B[0m\u001B[1;33m.\u001B[0m\u001B[0moptions\u001B[0m\u001B[1;33m)\u001B[0m\u001B[1;33m\u001B[0m\u001B[1;33m\u001B[0m\u001B[0m\n\u001B[0m\u001B[0;32m   1181\u001B[0m         \u001B[1;32melse\u001B[0m\u001B[1;33m:\u001B[0m\u001B[1;33m\u001B[0m\u001B[1;33m\u001B[0m\u001B[0m\n\u001B[0;32m   1182\u001B[0m             \u001B[1;32mif\u001B[0m \u001B[0mengine\u001B[0m \u001B[1;33m==\u001B[0m \u001B[1;34m\"python\"\u001B[0m\u001B[1;33m:\u001B[0m\u001B[1;33m\u001B[0m\u001B[1;33m\u001B[0m\u001B[0m\n",
      "\u001B[1;32mc:\\users\\dhr. ten hoonte\\file_repeater\\lib\\site-packages\\pandas\\io\\parsers.py\u001B[0m in \u001B[0;36m__init__\u001B[1;34m(self, src, **kwds)\u001B[0m\n\u001B[0;32m   2008\u001B[0m         \u001B[0mkwds\u001B[0m\u001B[1;33m[\u001B[0m\u001B[1;34m\"usecols\"\u001B[0m\u001B[1;33m]\u001B[0m \u001B[1;33m=\u001B[0m \u001B[0mself\u001B[0m\u001B[1;33m.\u001B[0m\u001B[0musecols\u001B[0m\u001B[1;33m\u001B[0m\u001B[1;33m\u001B[0m\u001B[0m\n\u001B[0;32m   2009\u001B[0m \u001B[1;33m\u001B[0m\u001B[0m\n\u001B[1;32m-> 2010\u001B[1;33m         \u001B[0mself\u001B[0m\u001B[1;33m.\u001B[0m\u001B[0m_reader\u001B[0m \u001B[1;33m=\u001B[0m \u001B[0mparsers\u001B[0m\u001B[1;33m.\u001B[0m\u001B[0mTextReader\u001B[0m\u001B[1;33m(\u001B[0m\u001B[0msrc\u001B[0m\u001B[1;33m,\u001B[0m \u001B[1;33m**\u001B[0m\u001B[0mkwds\u001B[0m\u001B[1;33m)\u001B[0m\u001B[1;33m\u001B[0m\u001B[1;33m\u001B[0m\u001B[0m\n\u001B[0m\u001B[0;32m   2011\u001B[0m         \u001B[0mself\u001B[0m\u001B[1;33m.\u001B[0m\u001B[0munnamed_cols\u001B[0m \u001B[1;33m=\u001B[0m \u001B[0mself\u001B[0m\u001B[1;33m.\u001B[0m\u001B[0m_reader\u001B[0m\u001B[1;33m.\u001B[0m\u001B[0munnamed_cols\u001B[0m\u001B[1;33m\u001B[0m\u001B[1;33m\u001B[0m\u001B[0m\n\u001B[0;32m   2012\u001B[0m \u001B[1;33m\u001B[0m\u001B[0m\n",
      "\u001B[1;32mpandas\\_libs\\parsers.pyx\u001B[0m in \u001B[0;36mpandas._libs.parsers.TextReader.__cinit__\u001B[1;34m()\u001B[0m\n",
      "\u001B[1;32mpandas\\_libs\\parsers.pyx\u001B[0m in \u001B[0;36mpandas._libs.parsers.TextReader._setup_parser_source\u001B[1;34m()\u001B[0m\n",
      "\u001B[1;31mFileNotFoundError\u001B[0m: [Errno 2] No such file or directory: 'C:\\\\Users\\\\Dhr. Ten Hoonte\\\\PycharmProjects\\\\file_repeater\\\\jupyter\\\\base\\\\file_in\\\\202105171_maanden.csv'"
     ]
    }
   ],
   "source": [
    "csv_dataframe = pd.read_csv(paden.file_in2, ';')\n",
    "\n",
    "\n",
    "csv_dataframe['omschrijving']= \"\"\n",
    "csv_dataframe['pdf']=\"leeg.pdf\"\n",
    "print(csv_dataframe.columns)\n",
    "print(csv_dataframe.head())\n",
    "grup = csv_dataframe.groupby(\"mndnr\")"
   ]
  },
  {
   "cell_type": "code",
   "execution_count": 29,
   "metadata": {},
   "outputs": [
    {
     "name": "stdout",
     "output_type": "stream",
     "text": [
      "       Code  datum  maand  omschrijving   pdf\n",
      "mndnr                                        \n",
      "1      1680   1680   1680          1680  1680\n",
      "2      1600   1600   1600          1600  1600\n",
      "3      1840   1840   1840          1840  1840\n",
      "4      1760   1760   1760          1760  1760\n",
      "5      1680   1680   1680          1680  1680\n",
      "6      1760   1760   1760          1760  1760\n",
      "7      1760   1760   1760          1760  1760\n",
      "8      1760   1760   1760          1760  1760\n",
      "9      1760   1760   1760          1760  1760\n",
      "10     1680   1680   1680          1680  1680\n",
      "11     1760   1760   1760          1760  1760\n",
      "12     1840   1840   1840          1840  1840\n"
     ]
    },
    {
     "data": {
      "text/plain": "(20880,)"
     },
     "execution_count": 29,
     "metadata": {},
     "output_type": "execute_result"
    }
   ],
   "source": [
    "print(grup.count())\n",
    "csv_dataframe['Code'].shape\n",
    "\n",
    "\n"
   ]
  },
  {
   "cell_type": "code",
   "execution_count": 27,
   "metadata": {},
   "outputs": [
    {
     "name": "stdout",
     "output_type": "stream",
     "text": [
      "4\n"
     ]
    },
    {
     "data": {
      "text/plain": "['Code', 'datum', 'maand', 'mndnr', 'omschrijving', 'pdf']"
     },
     "execution_count": 27,
     "metadata": {},
     "output_type": "execute_result"
    }
   ],
   "source": [
    "\n",
    "\n",
    "# kolommen1 = ['Code', 'datum', 'maand', 'mndnr', 'pdf', 'omschrijving']?\n",
    "# twee = pd.DataFrame([[\"0\",\"0\",\"stans.pdf\",'a'] for x in range(5)], columns = kolommen,)\n",
    "# ic(twee)\n",
    "kolommen =[kol for kol in csv_dataframe.columns]\n",
    "headers = len(kolommen)-2\n",
    "print(headers)\n",
    "vulregel = \"a\" * headers\n",
    "\n",
    "\n",
    "\n",
    "kol = list(csv_dataframe.columns)\n",
    "kol"
   ]
  },
  {
   "cell_type": "code",
   "execution_count": 14,
   "metadata": {},
   "outputs": [],
   "source": [
    "inlooplijst = ('\".\",' * headers)\n",
    "\n",
    "# inlooplijst = inlooplijst +'stans.pdf'\n",
    "# inlooplijst"
   ]
  },
  {
   "cell_type": "code",
   "execution_count": 15,
   "metadata": {},
   "outputs": [],
   "source": [
    "def csv_name_giver():\n",
    "    def naming_a_csv(name, count, exp=\".csv\"):\n",
    "        csv_name = f'{name}_{count:>{0}{5}}{exp}'\n",
    "        return csv_name\n",
    "\n",
    "    return naming_a_csv\n",
    "\n",
    "\n",
    "\n",
    "\n",
    "def wikkel(eindgetal, rolnummer):\n",
    "    begin = df_rol.iat[0, 0]\n",
    "    # eind = eindgetal\n",
    "    eind = df_rol.iat[eindgetal-1, 0]\n",
    "    print(begin, eind)\n",
    "\n",
    "    twee = pd.DataFrame([[\"\", '', '','','', \"stans.pdf\"] for x in range(2)], columns=kol, )\n",
    "    sluit = pd.DataFrame([('', '', '','',f'rol {rolnummer} || {begin} - {eind}||{eindgetal} etiketten',\"stans.pdf\")\n",
    "                          for x in range(1)], columns=kol, )\n",
    "    wikkelstwee = pd.DataFrame([[\"\", '', '','','', \"stans.pdf\"] for x in range(10)], columns=kol, )\n",
    "    wik = pd.concat([twee,sluit,wikkelstwee])\n",
    "    return wik"
   ]
  },
  {
   "cell_type": "code",
   "execution_count": 16,
   "metadata": {},
   "outputs": [
    {
     "data": {
      "text/plain": "  Code datum maand mndnr omschrijving        pdf\n0                                      stans.pdf\n1                                      stans.pdf",
      "text/html": "<div>\n<style scoped>\n    .dataframe tbody tr th:only-of-type {\n        vertical-align: middle;\n    }\n\n    .dataframe tbody tr th {\n        vertical-align: top;\n    }\n\n    .dataframe thead th {\n        text-align: right;\n    }\n</style>\n<table border=\"1\" class=\"dataframe\">\n  <thead>\n    <tr style=\"text-align: right;\">\n      <th></th>\n      <th>Code</th>\n      <th>datum</th>\n      <th>maand</th>\n      <th>mndnr</th>\n      <th>omschrijving</th>\n      <th>pdf</th>\n    </tr>\n  </thead>\n  <tbody>\n    <tr>\n      <th>0</th>\n      <td></td>\n      <td></td>\n      <td></td>\n      <td></td>\n      <td></td>\n      <td>stans.pdf</td>\n    </tr>\n    <tr>\n      <th>1</th>\n      <td></td>\n      <td></td>\n      <td></td>\n      <td></td>\n      <td></td>\n      <td>stans.pdf</td>\n    </tr>\n  </tbody>\n</table>\n</div>"
     },
     "execution_count": 16,
     "metadata": {},
     "output_type": "execute_result"
    }
   ],
   "source": [
    "# rolnummer=1\n",
    "# begin=1\n",
    "# eind=1680\n",
    "# eindgetal= 123456\n",
    "\n",
    "# sluit = pd.DataFrame([('', '', '','',f'rol {rolnummer} || {begin} - {eind}||{eindgetal} etiketten',\"stans.pdf\")], columns=kolommen, )\n",
    "# sluit\n",
    "\n",
    "twee = pd.DataFrame([[\"\", '', '','','', \"stans.pdf\"] for x in range(2)], columns=kol, )\n",
    "twee"
   ]
  },
  {
   "cell_type": "code",
   "execution_count": 17,
   "metadata": {},
   "outputs": [
    {
     "ename": "FileNotFoundError",
     "evalue": "[Errno 2] No such file or directory: 'uit/csvfiles/rol_00001.csv'",
     "output_type": "error",
     "traceback": [
      "\u001B[1;31m---------------------------------------------------------------------------\u001B[0m",
      "\u001B[1;31mFileNotFoundError\u001B[0m                         Traceback (most recent call last)",
      "\u001B[1;32m<ipython-input-17-abdb55c8aa17>\u001B[0m in \u001B[0;36m<module>\u001B[1;34m\u001B[0m\n\u001B[0;32m     14\u001B[0m \u001B[1;32mfor\u001B[0m \u001B[0mdf_rol\u001B[0m \u001B[1;32min\u001B[0m \u001B[0mrange\u001B[0m\u001B[1;33m(\u001B[0m\u001B[1;36m1\u001B[0m\u001B[1;33m,\u001B[0m\u001B[0mlen\u001B[0m\u001B[1;33m(\u001B[0m\u001B[0mgrup\u001B[0m\u001B[1;33m)\u001B[0m\u001B[1;33m+\u001B[0m\u001B[1;36m1\u001B[0m\u001B[1;33m)\u001B[0m\u001B[1;33m:\u001B[0m\u001B[1;33m\u001B[0m\u001B[1;33m\u001B[0m\u001B[0m\n\u001B[0;32m     15\u001B[0m     \u001B[1;31m# dit moet netter kunnen:)\u001B[0m\u001B[1;33m\u001B[0m\u001B[1;33m\u001B[0m\u001B[1;33m\u001B[0m\u001B[0m\n\u001B[1;32m---> 16\u001B[1;33m     \u001B[0mgrup\u001B[0m\u001B[1;33m.\u001B[0m\u001B[0mget_group\u001B[0m\u001B[1;33m(\u001B[0m\u001B[0mdf_rol\u001B[0m\u001B[1;33m)\u001B[0m\u001B[1;33m.\u001B[0m\u001B[0mto_csv\u001B[0m\u001B[1;33m(\u001B[0m\u001B[0mcsvnaam\u001B[0m\u001B[1;33m(\u001B[0m\u001B[1;34m\"uit/csvfiles/rol\"\u001B[0m\u001B[1;33m,\u001B[0m \u001B[0mdf_rol\u001B[0m\u001B[1;33m)\u001B[0m\u001B[1;33m)\u001B[0m\u001B[1;33m\u001B[0m\u001B[1;33m\u001B[0m\u001B[0m\n\u001B[0m\u001B[0;32m     17\u001B[0m     \u001B[1;31m# maakt van elke rol een csv file\u001B[0m\u001B[1;33m\u001B[0m\u001B[1;33m\u001B[0m\u001B[1;33m\u001B[0m\u001B[0m\n\u001B[0;32m     18\u001B[0m     \u001B[0mrol_nummer\u001B[0m \u001B[1;33m=\u001B[0m \u001B[0mdf_rol\u001B[0m\u001B[1;33m\u001B[0m\u001B[1;33m\u001B[0m\u001B[0m\n",
      "\u001B[1;32mc:\\users\\dhr. ten hoonte\\file_repeater\\lib\\site-packages\\pandas\\core\\generic.py\u001B[0m in \u001B[0;36mto_csv\u001B[1;34m(self, path_or_buf, sep, na_rep, float_format, columns, header, index, index_label, mode, encoding, compression, quoting, quotechar, line_terminator, chunksize, date_format, doublequote, escapechar, decimal, errors)\u001B[0m\n\u001B[0;32m   3168\u001B[0m             \u001B[0mdecimal\u001B[0m\u001B[1;33m=\u001B[0m\u001B[0mdecimal\u001B[0m\u001B[1;33m,\u001B[0m\u001B[1;33m\u001B[0m\u001B[1;33m\u001B[0m\u001B[0m\n\u001B[0;32m   3169\u001B[0m         )\n\u001B[1;32m-> 3170\u001B[1;33m         \u001B[0mformatter\u001B[0m\u001B[1;33m.\u001B[0m\u001B[0msave\u001B[0m\u001B[1;33m(\u001B[0m\u001B[1;33m)\u001B[0m\u001B[1;33m\u001B[0m\u001B[1;33m\u001B[0m\u001B[0m\n\u001B[0m\u001B[0;32m   3171\u001B[0m \u001B[1;33m\u001B[0m\u001B[0m\n\u001B[0;32m   3172\u001B[0m         \u001B[1;32mif\u001B[0m \u001B[0mpath_or_buf\u001B[0m \u001B[1;32mis\u001B[0m \u001B[1;32mNone\u001B[0m\u001B[1;33m:\u001B[0m\u001B[1;33m\u001B[0m\u001B[1;33m\u001B[0m\u001B[0m\n",
      "\u001B[1;32mc:\\users\\dhr. ten hoonte\\file_repeater\\lib\\site-packages\\pandas\\io\\formats\\csvs.py\u001B[0m in \u001B[0;36msave\u001B[1;34m(self)\u001B[0m\n\u001B[0;32m    183\u001B[0m             \u001B[0mclose\u001B[0m \u001B[1;33m=\u001B[0m \u001B[1;32mFalse\u001B[0m\u001B[1;33m\u001B[0m\u001B[1;33m\u001B[0m\u001B[0m\n\u001B[0;32m    184\u001B[0m         \u001B[1;32melse\u001B[0m\u001B[1;33m:\u001B[0m\u001B[1;33m\u001B[0m\u001B[1;33m\u001B[0m\u001B[0m\n\u001B[1;32m--> 185\u001B[1;33m             f, handles = get_handle(\n\u001B[0m\u001B[0;32m    186\u001B[0m                 \u001B[0mself\u001B[0m\u001B[1;33m.\u001B[0m\u001B[0mpath_or_buf\u001B[0m\u001B[1;33m,\u001B[0m\u001B[1;33m\u001B[0m\u001B[1;33m\u001B[0m\u001B[0m\n\u001B[0;32m    187\u001B[0m                 \u001B[0mself\u001B[0m\u001B[1;33m.\u001B[0m\u001B[0mmode\u001B[0m\u001B[1;33m,\u001B[0m\u001B[1;33m\u001B[0m\u001B[1;33m\u001B[0m\u001B[0m\n",
      "\u001B[1;32mc:\\users\\dhr. ten hoonte\\file_repeater\\lib\\site-packages\\pandas\\io\\common.py\u001B[0m in \u001B[0;36mget_handle\u001B[1;34m(path_or_buf, mode, encoding, compression, memory_map, is_text, errors)\u001B[0m\n\u001B[0;32m    491\u001B[0m         \u001B[1;32mif\u001B[0m \u001B[0mencoding\u001B[0m\u001B[1;33m:\u001B[0m\u001B[1;33m\u001B[0m\u001B[1;33m\u001B[0m\u001B[0m\n\u001B[0;32m    492\u001B[0m             \u001B[1;31m# Encoding\u001B[0m\u001B[1;33m\u001B[0m\u001B[1;33m\u001B[0m\u001B[1;33m\u001B[0m\u001B[0m\n\u001B[1;32m--> 493\u001B[1;33m             \u001B[0mf\u001B[0m \u001B[1;33m=\u001B[0m \u001B[0mopen\u001B[0m\u001B[1;33m(\u001B[0m\u001B[0mpath_or_buf\u001B[0m\u001B[1;33m,\u001B[0m \u001B[0mmode\u001B[0m\u001B[1;33m,\u001B[0m \u001B[0mencoding\u001B[0m\u001B[1;33m=\u001B[0m\u001B[0mencoding\u001B[0m\u001B[1;33m,\u001B[0m \u001B[0merrors\u001B[0m\u001B[1;33m=\u001B[0m\u001B[0merrors\u001B[0m\u001B[1;33m,\u001B[0m \u001B[0mnewline\u001B[0m\u001B[1;33m=\u001B[0m\u001B[1;34m\"\"\u001B[0m\u001B[1;33m)\u001B[0m\u001B[1;33m\u001B[0m\u001B[1;33m\u001B[0m\u001B[0m\n\u001B[0m\u001B[0;32m    494\u001B[0m         \u001B[1;32melif\u001B[0m \u001B[0mis_text\u001B[0m\u001B[1;33m:\u001B[0m\u001B[1;33m\u001B[0m\u001B[1;33m\u001B[0m\u001B[0m\n\u001B[0;32m    495\u001B[0m             \u001B[1;31m# No explicit encoding\u001B[0m\u001B[1;33m\u001B[0m\u001B[1;33m\u001B[0m\u001B[1;33m\u001B[0m\u001B[0m\n",
      "\u001B[1;31mFileNotFoundError\u001B[0m: [Errno 2] No such file or directory: 'uit/csvfiles/rol_00001.csv'"
     ]
    }
   ],
   "source": [
    "# kolommen = ['Code', 'datum', 'maand', 'mndnr', 'pdf', 'omschrijving']\n",
    "# twee = pd.DataFrame([[\"0\",\"0\",\"stans.pdf\",'a'] for x in range(5)], columns = kolommen,)\n",
    "# ic(twee)\n",
    "\n",
    "\n",
    "\n",
    "# todo functies in module plaatsen, de forloop in een ander forloop plaatsen voor het maken van meerdere files\n",
    "\n",
    "csvnaam = csv_name_giver()\n",
    "\n",
    "dflijst = []\n",
    "dfbegineind = []\n",
    "\n",
    "for df_rol in range(1,len(grup)+1):\n",
    "    # dit moet netter kunnen:)\n",
    "    grup.get_group(df_rol).to_csv(csvnaam(\"uit/csvfiles/rol\", df_rol))\n",
    "    # maakt van elke rol een csv file\n",
    "    rol_nummer = df_rol\n",
    "    print(f'rolnr {rol_nummer}')\n",
    "    df_rol = grup.get_group(df_rol)\n",
    "    # maakt een dataframe per rol\n",
    "    aantal_per_rol = df_rol.shape[0]\n",
    "    \n",
    "    dflijst.append(wikkel(aantal_per_rol,rol_nummer))\n",
    "#     print(wikkel(aantal_per_rol,rol_nummer).head())\n",
    "    dflijst.append(df_rol)\n",
    "    # def voor wikkels en sluit etiket met sum\n",
    "    \n",
    "    dflijst.append(wikkel(df_rol.shape[0],rol_nummer))\n",
    "    \n",
    "\n",
    "    dfbegineind.append(wikkel(df_rol.shape[0],rol_nummer))\n",
    "\n",
    "\n",
    "newlijst = pd.concat(dflijst)\n",
    "# # als lijst klaar is maakt een dataframe\n",
    "# # print(newlijst.head(2))            \n",
    "            \n",
    "newlijst.to_csv('uit/202105171_in.csv')\n",
    "\n",
    "# begineindlijst= pd.concat(dfbegineind)\n",
    "# #  maakt een csv file van dataframe\n",
    "\n",
    "\n",
    "# begineindlijst['omschrijving'].to_csv('uit/begineindlijst.csv')\n",
    "# pprint(begineindlijst['omschrijving'])"
   ]
  },
  {
   "cell_type": "code",
   "execution_count": null,
   "metadata": {},
   "outputs": [],
   "source": [
    "# we need to be able to count\n",
    "csv_dataframe.count()\n",
    "count=0\n",
    "\n"
   ]
  },
  {
   "cell_type": "code",
   "execution_count": null,
   "metadata": {},
   "outputs": [],
   "source": [
    "totaal,aantal_kolommen = csv_dataframe.shape\n",
    "print(totaal, leeg)\n",
    "\n",
    "for rowe in csv_dataframe.itertuples(index=False):\n",
    "#     print(rowe)\n",
    "    count +=1\n",
    "    if count == 1680: # dit getal zou uit een lijst moeten komen met de rol aantallen!!!!\n",
    "        print(count)\n",
    "        count = 0"
   ]
  },
  {
   "cell_type": "code",
   "execution_count": null,
   "metadata": {},
   "outputs": [],
   "source": [
    "# lijst   \n",
    "\n",
    "en maken en opslaan naar hdf5 format?\n",
    "# 4 lijsten maken om later te concaten?\n",
    "def lists_in_list():\n",
    "    '''list opbreker de de rest lijst ook meeneemt \n",
    "    let op werkt denk ik het beste als je over de verticale axis concat \n",
    "    toepast en opvult met fillna'''\n",
    "\n",
    "    def lists_in_list_divider(list_obj, items_in_list_mes):\n",
    "        length_list = len(list_obj)\n",
    "        list_divider = length_list // items_in_list_mes\n",
    "        \n",
    "        new_list = []\n",
    "        \n",
    "        if length_list % items_in_list_mes == 0:\n",
    "            start = 0\n",
    "            end = items_in_list_mes\n",
    "            for index in range(list_divider):\n",
    "                new_list.append(list_obj[start:end])\n",
    "                start += items_in_list_mes\n",
    "                end += items_in_list_mes\n",
    "\n",
    "            return new_list\n",
    "        else:\n",
    "            start = 0\n",
    "            end = items_in_list_mes\n",
    "            for index in range(list_divider):\n",
    "                new_list.append(list_obj[start:end])\n",
    "                start += items_in_list_mes\n",
    "                end += items_in_list_mes\n",
    "            \n",
    "            return new_list  + [list_obj[:length_list % items_in_list_mes]]\n",
    "        \n",
    "    return lists_in_list_divider\n",
    "\n",
    "# als lijst lengte iets over houd moet dat ook in een lijst! anders raak je die gewoon kwijt "
   ]
  },
  {
   "cell_type": "code",
   "execution_count": null,
   "metadata": {},
   "outputs": [],
   "source": [
    "#  aantal banen delen door 4 (=1 ) voor 4 delen\n",
    "banen =  4\n",
    "# banen +=1\n",
    "# dus\n",
    "totaal,aantal_kolommen = csv_dataframe.shape\n",
    "print(totaal, leeg)\n",
    "lengte_baan = totaal// banen\n",
    "print(lengte_baan)\n",
    "# baan = grup.get_group(df_rol + 1)['mndnr'].sum()\n",
    "# print(baan)\n",
    "count = 0\n",
    "rol_aantalen = []\n",
    "\n",
    "for df_rol in range(len(grup)):\n",
    "    print(df_rol+1)\n",
    "#     rol_aantalen.append(grup.get_group(df_rol + 1)['mndnr'].sum())\n",
    "    rolaantal, kolommen = grup.get_group(df_rol + 1).shape\n",
    "    rol_aantalen.append(rolaantal)\n",
    "    count += rolaantal\n",
    "    print(f'rol aantal = {rolaantal}')\n",
    "    if count >= lengte_baan:\n",
    "        \n",
    "        print(count)\n",
    "        \n",
    "        \n",
    "        \n",
    "        count=0\n",
    "        \n",
    "#     print(grup.get_group(df_rol + 1)['mndnr'].sum())\n",
    "#     if baan >= lengte_baan:\n",
    "#         print(baan)\n",
    "#         lengte_baan = baan + lengte_baan\n",
    "        \n",
    "rol_aantalen\n",
    "print(int(len(rol_aantalen)/banen))\n",
    "\n",
    "# def lijstbreker zoeken "
   ]
  },
  {
   "cell_type": "code",
   "execution_count": null,
   "metadata": {},
   "outputs": [],
   "source": [
    "lijstbreker = lists_in_list()\n",
    "print(lijstbreker(rol_aantalen,5))\n"
   ]
  }
 ],
 "metadata": {
  "kernelspec": {
   "display_name": "Python 3",
   "language": "python",
   "name": "python3"
  },
  "language_info": {
   "codemirror_mode": {
    "name": "ipython",
    "version": 3
   },
   "file_extension": ".py",
   "mimetype": "text/x-python",
   "name": "python",
   "nbconvert_exporter": "python",
   "pygments_lexer": "ipython3",
   "version": "3.8.5"
  }
 },
 "nbformat": 4,
 "nbformat_minor": 4
}